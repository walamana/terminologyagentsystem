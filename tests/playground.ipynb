{
 "cells": [
  {
   "cell_type": "code",
   "id": "initial_id",
   "metadata": {
    "collapsed": true,
    "ExecuteTime": {
     "end_time": "2025-06-30T09:38:13.683060Z",
     "start_time": "2025-06-30T09:38:11.557084Z"
    }
   },
   "source": [
    "\n",
    "from sentence_transformers import SentenceTransformer\n",
    "\n",
    "model = SentenceTransformer(\"all-MiniLM-L6-v2\")\n",
    "\n",
    "expected = [\"Rangieren\", \"420\", \"Gleis\", \"Abstellgleis\", \"auf Sicht fahren\", \"Signal\"]\n",
    "actual = [\"Rangier\", \"420er\", \"Gleis\", \"Abstellgleis\", \"auf Sicht fahren\", \"Signal\"]\n",
    "\n",
    "sentences = expected + actual\n",
    "\n",
    "embeddings = model.encode(sentences)\n",
    "\n",
    "similarities = model.similarity(embeddings, embeddings)\n",
    "[(expected[i], actual[i], float(similarities[i][i+len(expected)])) for i in range(len(expected))]"
   ],
   "outputs": [
    {
     "data": {
      "text/plain": [
       "[('Rangieren', 'Rangier', 0.6645525693893433),\n",
       " ('420', '420er', 0.8273268938064575),\n",
       " ('Gleis', 'Gleis', 1.0000003576278687),\n",
       " ('Abstellgleis', 'Abstellgleis', 1.000000238418579),\n",
       " ('auf Sicht fahren', 'auf Sicht fahren', 1.0),\n",
       " ('Signal', 'Signal', 1.0)]"
      ]
     },
     "execution_count": 11,
     "metadata": {},
     "output_type": "execute_result"
    }
   ],
   "execution_count": 11
  },
  {
   "metadata": {
    "ExecuteTime": {
     "end_time": "2025-07-03T20:50:29.178369Z",
     "start_time": "2025-07-03T20:50:28.973445Z"
    }
   },
   "cell_type": "code",
   "source": [
    "from pypdf import PdfReader, PdfWriter\n",
    "reader = PdfReader(open(\"./../data/thiel_bahnbegriffe.pdf\", \"rb\"))\n",
    "print(len(reader.pages))\n",
    "for i in range(len(reader.pages)):\n",
    "    output = PdfWriter()\n",
    "    output.add_page(reader.pages[i])\n",
    "    out_path = f\"./../data/thiel/thiel_{i}.pdf\"\n",
    "    with open(out_path, \"wb\") as f:\n",
    "        output.write(f)"
   ],
   "id": "23220bea7a8b10e7",
   "outputs": [
    {
     "name": "stdout",
     "output_type": "stream",
     "text": [
      "141\n"
     ]
    }
   ],
   "execution_count": 14
  }
 ],
 "metadata": {
  "kernelspec": {
   "display_name": "Python 3",
   "language": "python",
   "name": "python3"
  },
  "language_info": {
   "codemirror_mode": {
    "name": "ipython",
    "version": 2
   },
   "file_extension": ".py",
   "mimetype": "text/x-python",
   "name": "python",
   "nbconvert_exporter": "python",
   "pygments_lexer": "ipython2",
   "version": "2.7.6"
  }
 },
 "nbformat": 4,
 "nbformat_minor": 5
}
