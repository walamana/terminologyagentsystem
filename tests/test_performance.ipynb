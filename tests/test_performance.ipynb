{
 "cells": [
  {
   "cell_type": "code",
   "id": "initial_id",
   "metadata": {
    "collapsed": true,
    "ExecuteTime": {
     "end_time": "2025-07-04T07:26:21.956351Z",
     "start_time": "2025-07-04T07:26:21.953634Z"
    }
   },
   "source": [
    "import time\n",
    "\n",
    "with open(\"./../data/test_performance_input.txt\", \"r\") as f:\n",
    "    test_input = [input_str.strip() for input_str in f.read().split(\"###\")]\n",
    "    test_input = [text for text in test_input if text != \"\"]\n",
    "\n",
    "len(test_input)"
   ],
   "outputs": [
    {
     "data": {
      "text/plain": [
       "1"
      ]
     },
     "execution_count": 21,
     "metadata": {},
     "output_type": "execute_result"
    }
   ],
   "execution_count": 21
  },
  {
   "metadata": {
    "ExecuteTime": {
     "end_time": "2025-07-04T07:27:53.980459Z",
     "start_time": "2025-07-04T07:27:52.667423Z"
    }
   },
   "cell_type": "code",
   "source": [
    "import httpx\n",
    "import json\n",
    "\n",
    "test_results = []\n",
    "\n",
    "def run_test(input: str):\n",
    "    start = time.time()\n",
    "    result = httpx.post(\"http://localhost:8000/processText\", json={\n",
    "        \"text\": input\n",
    "    }, timeout=None)\n",
    "    end = time.time()\n",
    "    duration = end - start\n",
    "    test_results.append({\"duration\": duration, \"input\": input, \"result\": result.json()})\n",
    "    print(\"\\033[4mTest result:\\033[0m\")\n",
    "    print(f\"\\033[1mDuration:\\033[0m {duration}s\")\n",
    "    print(f\"\\033[1mInput:\\033[0m \\\"{input}\\\"\")\n",
    "    for term in result.json()[\"terms\"]:\n",
    "        print(f\"- {term['text'] if term['normalization'] == '' else term['normalization']}\")\n",
    "        for definition in term[\"definitions\"]:\n",
    "            prefix = \"\"\n",
    "            if definition[\"partial\"]:\n",
    "                prefix += \"⚙️\"\n",
    "            if not definition[\"verified\"]:\n",
    "                prefix += \"✨\"\n",
    "            else:\n",
    "                prefix += \"☑️\"\n",
    "            print(f\"\\t- {prefix} {definition['text']}\")\n",
    "    print()\n",
    "\n",
    "for text in test_input:\n",
    "    try:\n",
    "        run_test(text)\n",
    "    except:\n",
    "        print(f\"Test failed: {text}\")\n",
    "\n",
    "with open(\"./../data/test_performance_output.json\", \"w\") as f:\n",
    "    f.write(json.dumps(test_results))"
   ],
   "id": "1824c2246b2c9a91",
   "outputs": [
    {
     "name": "stdout",
     "output_type": "stream",
     "text": [
      "\u001B[4mTest result:\u001B[0m\n",
      "\u001B[1mDuration:\u001B[0m 1.2993950843811035s\n",
      "\u001B[1mInput:\u001B[0m \"Baustelle an Bahnübergang\"\n",
      "- Baustelle\n",
      "- Bahnübergang\n",
      "\t- ☑️ höhengleiche (in der Ebene der Schienenoberkante [SO] liegende) Kreuzung zwischen Eisenbahngleisen und Straßen, Wegen und Plätzen, wobei dem Schienenweg der Vorrang zusteht. Man unterscheidet zwischen technisch gesicherten und technisch nicht gesicherten Bahnübergängen. Die technische Sicherung kann bestehen aus zugbetätigtem Haltlicht, aus zugbetätigtem und fernüberwachtem Haltlicht mit selbsttätigen Halbschranken oder aus hand- oder fernbedienten Vollschranken mit oder ohne Verkehrssignalanlage.\n",
      "\t- ☑️ höhengleiche (in der Ebene der Schienenoberkante [SO] liegende) Kreuzung zwischen Eisenbahngleisen und Straßen, Wegen und Plätzen, wobei dem Schienenweg der Vorrang zusteht. Man unterscheidet zwischen technisch gesicherten und technisch nicht gesicherten Bahnübergängen. Die technische Sicherung kann bestehen aus zugbetätigtem Haltlicht, aus zugbetätigtem und fernüberwachtem Haltlicht mit selbsttätigen Halbschranken oder aus hand- oder fernbedienten Vollschranken mit oder ohne Verkehrssignalanlage.\n",
      "\n"
     ]
    }
   ],
   "execution_count": 23
  }
 ],
 "metadata": {
  "kernelspec": {
   "display_name": "Python 3",
   "language": "python",
   "name": "python3"
  },
  "language_info": {
   "codemirror_mode": {
    "name": "ipython",
    "version": 2
   },
   "file_extension": ".py",
   "mimetype": "text/x-python",
   "name": "python",
   "nbconvert_exporter": "python",
   "pygments_lexer": "ipython2",
   "version": "2.7.6"
  }
 },
 "nbformat": 4,
 "nbformat_minor": 5
}
