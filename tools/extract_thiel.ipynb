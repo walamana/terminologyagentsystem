{
 "cells": [
  {
   "cell_type": "code",
   "id": "initial_id",
   "metadata": {
    "collapsed": true,
    "ExecuteTime": {
     "end_time": "2025-06-27T08:16:05.008330Z",
     "start_time": "2025-06-27T08:16:05.006573Z"
    }
   },
   "source": [
    "from pathlib import Path\n",
    "\n",
    "from docling.document_converter import DocumentConverter"
   ],
   "outputs": [],
   "execution_count": 2
  },
  {
   "metadata": {
    "ExecuteTime": {
     "end_time": "2025-06-27T08:17:38.580257Z",
     "start_time": "2025-06-27T08:16:28.515214Z"
    }
   },
   "cell_type": "code",
   "source": [
    "converter = DocumentConverter()\n",
    "doc = converter.convert(Path(\"./../data/thiel_bahnbegriffe.pdf\"))"
   ],
   "id": "f03e55e17dbcf1f9",
   "outputs": [],
   "execution_count": 3
  },
  {
   "metadata": {
    "ExecuteTime": {
     "end_time": "2025-06-27T08:23:47.476459Z",
     "start_time": "2025-06-27T08:23:29.526420Z"
    }
   },
   "cell_type": "code",
   "source": [
    "import json\n",
    "with open(Path(\"./../data/thiel_bahnbegriffe.md\"), \"w\") as f:\n",
    "    f.write(doc.document.export_to_markdown())"
   ],
   "id": "557c0a2db74217ba",
   "outputs": [],
   "execution_count": 10
  }
 ],
 "metadata": {
  "kernelspec": {
   "display_name": "Python 3",
   "language": "python",
   "name": "python3"
  },
  "language_info": {
   "codemirror_mode": {
    "name": "ipython",
    "version": 2
   },
   "file_extension": ".py",
   "mimetype": "text/x-python",
   "name": "python",
   "nbconvert_exporter": "python",
   "pygments_lexer": "ipython2",
   "version": "2.7.6"
  }
 },
 "nbformat": 4,
 "nbformat_minor": 5
}
